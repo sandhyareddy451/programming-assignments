{
 "cells": [
  {
   "cell_type": "markdown",
   "id": "1ecb4ef6",
   "metadata": {},
   "source": [
    "## 1. Write a Python program to Extract Unique values dictionary values?"
   ]
  },
  {
   "cell_type": "code",
   "execution_count": 1,
   "id": "da06695a",
   "metadata": {},
   "outputs": [],
   "source": [
    "from itertools import chain"
   ]
  },
  {
   "cell_type": "code",
   "execution_count": 2,
   "id": "0250cba3",
   "metadata": {},
   "outputs": [],
   "source": [
    "dict1 = {'A' : [10, 11, 2],\n",
    "             'B' : [4, 6, 8, 10],\n",
    "             'C' : [9, 10, 23, 11, 2],\n",
    "             'D' : [10, 3, 4]}"
   ]
  },
  {
   "cell_type": "code",
   "execution_count": 3,
   "id": "97ec01cf",
   "metadata": {},
   "outputs": [
    {
     "name": "stdout",
     "output_type": "stream",
     "text": [
      "[10, 11, 2] [4, 6, 8, 10] [9, 10, 23, 11, 2] [10, 3, 4]\n"
     ]
    }
   ],
   "source": [
    "print(*dict1.values())"
   ]
  },
  {
   "cell_type": "code",
   "execution_count": 4,
   "id": "ee68f3f6",
   "metadata": {},
   "outputs": [
    {
     "name": "stdout",
     "output_type": "stream",
     "text": [
      "<itertools.chain object at 0x000002130E091D60>\n"
     ]
    }
   ],
   "source": [
    "#keep the values in chain\n",
    "# chain function is nothing but, it takes a series of iterables and returns one iterable\n",
    "print(chain(*dict1.values()))"
   ]
  },
  {
   "cell_type": "code",
   "execution_count": 5,
   "id": "0a86cd5c",
   "metadata": {},
   "outputs": [
    {
     "name": "stdout",
     "output_type": "stream",
     "text": [
      "{2, 3, 4, 6, 8, 9, 10, 11, 23}\n"
     ]
    }
   ],
   "source": [
    "#for getting unique values keep it in set\n",
    "\n",
    "print(set(chain(*dict1.values())))"
   ]
  },
  {
   "cell_type": "code",
   "execution_count": 6,
   "id": "f7ea1e78",
   "metadata": {},
   "outputs": [
    {
     "name": "stdout",
     "output_type": "stream",
     "text": [
      "[2, 3, 4, 6, 8, 9, 10, 11, 23]\n"
     ]
    }
   ],
   "source": [
    "#if we want get the result in list keep the above ouput in list\n",
    "print(list(set(chain(*dict1.values()))))"
   ]
  },
  {
   "cell_type": "markdown",
   "id": "ba02db76",
   "metadata": {},
   "source": [
    "## 2. Write a Python program to find the sum of all items in a dictionary?"
   ]
  },
  {
   "cell_type": "code",
   "execution_count": 7,
   "id": "e41f36cc",
   "metadata": {},
   "outputs": [
    {
     "name": "stdout",
     "output_type": "stream",
     "text": [
      "730\n"
     ]
    }
   ],
   "source": [
    "dict2={\n",
    "   \n",
    "    'A':130,\n",
    "    'B':200,\n",
    "    'C':400   \n",
    "    \n",
    "}\n",
    "\n",
    "sum=0\n",
    "for i in dict2.values():\n",
    "    sum=sum+i\n",
    "print(sum)"
   ]
  },
  {
   "cell_type": "markdown",
   "id": "9ef14214",
   "metadata": {},
   "source": [
    "## 3. Write a Python program to Merging two Dictionaries?"
   ]
  },
  {
   "cell_type": "code",
   "execution_count": 8,
   "id": "f40dbfff",
   "metadata": {},
   "outputs": [],
   "source": [
    "dict3 = {'A' : 133,\n",
    "             'B' : 340\n",
    "       }\n",
    "             "
   ]
  },
  {
   "cell_type": "code",
   "execution_count": 9,
   "id": "e386c1ec",
   "metadata": {},
   "outputs": [],
   "source": [
    "dict4={\n",
    "    \n",
    "    'B':200,\n",
    "    'C':120\n",
    "}"
   ]
  },
  {
   "cell_type": "code",
   "execution_count": 10,
   "id": "e264d054",
   "metadata": {},
   "outputs": [
    {
     "name": "stdout",
     "output_type": "stream",
     "text": [
      "{'A': 133, 'B': 200, 'C': 120}\n"
     ]
    }
   ],
   "source": [
    "print({**dict3,**dict4})"
   ]
  },
  {
   "cell_type": "markdown",
   "id": "4af424e3",
   "metadata": {},
   "source": [
    "## 4. Write a Python program to convert key-values list to flat dictionary?"
   ]
  },
  {
   "cell_type": "code",
   "execution_count": 11,
   "id": "cfa210eb",
   "metadata": {},
   "outputs": [],
   "source": [
    "dict5 = {\n",
    "    \n",
    "    'Numbers':[1,2,3],\n",
    "    'Month':['jan','feb','march']\n",
    "}"
   ]
  },
  {
   "cell_type": "code",
   "execution_count": 12,
   "id": "42de99dd",
   "metadata": {},
   "outputs": [
    {
     "name": "stdout",
     "output_type": "stream",
     "text": [
      "{1: 'jan', 2: 'feb', 3: 'march'}\n"
     ]
    }
   ],
   "source": [
    "# key-value list [1,2,3],['jan','feb','march']---flat dict {'1':'jan','2':'feb','3':'march'}\n",
    "result = dict(zip(dict5[\"Numbers\"],dict5['Month']))\n",
    "print(result)"
   ]
  },
  {
   "cell_type": "markdown",
   "id": "e6aae7ad",
   "metadata": {},
   "source": [
    "## 5. Write a Python program to insertion at the beginning in OrderedDict?"
   ]
  },
  {
   "cell_type": "code",
   "execution_count": 20,
   "id": "65692a9d",
   "metadata": {},
   "outputs": [
    {
     "name": "stdout",
     "output_type": "stream",
     "text": [
      "OrderedDict([('e', 4), ('f', 7), ('a', 1), ('b', 2), ('c', 3)])\n"
     ]
    }
   ],
   "source": [
    "from collections import OrderedDict\n",
    "\n",
    "dict6=OrderedDict([('a',1), ('b',2), ('c',3)])\n",
    "dict7=OrderedDict([('e',4), ('f',7)])\n",
    "\n",
    "res=OrderedDict(list(dict7.items())+list(dict6.items()))\n",
    "print(res)"
   ]
  },
  {
   "cell_type": "markdown",
   "id": "b8f70dca",
   "metadata": {},
   "source": [
    "## 6. Write a Python program to check order of character in string using OrderedDict()?"
   ]
  },
  {
   "cell_type": "code",
   "execution_count": 1,
   "id": "b20fdeaf",
   "metadata": {},
   "outputs": [],
   "source": [
    "from collections import OrderedDict\n"
   ]
  },
  {
   "cell_type": "code",
   "execution_count": 11,
   "id": "3d09ea36",
   "metadata": {},
   "outputs": [
    {
     "name": "stdout",
     "output_type": "stream",
     "text": [
      "False\n"
     ]
    }
   ],
   "source": [
    "def checkOrder(string, pattern): \n",
    "    dict=OrderedDict.fromkeys(string)\n",
    "    ptr=0\n",
    "    for key,value in dict.items():\n",
    "        if(key==pattern[ptr]):\n",
    "            ptr=ptr+1\n",
    "        if(ptr==(len(pattern))):\n",
    "            return 'True'\n",
    "    return 'False'\n",
    "\n",
    "string = 'Study tonight'\n",
    "pattern = 'stu'\n",
    "print (checkOrder(string,pattern))\n"
   ]
  },
  {
   "cell_type": "markdown",
   "id": "6f82aa94",
   "metadata": {},
   "source": [
    "## 7. Write a Python program to sort Python Dictionaries by Key or Value?"
   ]
  },
  {
   "cell_type": "code",
   "execution_count": 14,
   "id": "871db888",
   "metadata": {},
   "outputs": [
    {
     "name": "stdout",
     "output_type": "stream",
     "text": [
      "(1, 43) (2, 9) (3, 8) (4, 23) (5, 10) (6, 77) "
     ]
    }
   ],
   "source": [
    "key_value={}\n",
    "\n",
    "key_value[5] = 10      \n",
    "key_value[3] = 8\n",
    "key_value[6] = 77\n",
    "key_value[4] = 23\n",
    "key_value[2] = 9     \n",
    "key_value[1] = 43\n",
    "\n",
    "for i in sorted(key_value) :\n",
    "    print ((i, key_value[i]), end =\" \")\n"
   ]
  },
  {
   "cell_type": "code",
   "execution_count": null,
   "id": "fdc8c69b",
   "metadata": {},
   "outputs": [],
   "source": []
  },
  {
   "cell_type": "code",
   "execution_count": null,
   "id": "789c2175",
   "metadata": {},
   "outputs": [],
   "source": []
  },
  {
   "cell_type": "code",
   "execution_count": null,
   "id": "7831d442",
   "metadata": {},
   "outputs": [],
   "source": []
  },
  {
   "cell_type": "code",
   "execution_count": null,
   "id": "3d966398",
   "metadata": {},
   "outputs": [],
   "source": []
  },
  {
   "cell_type": "code",
   "execution_count": null,
   "id": "85896fc6",
   "metadata": {},
   "outputs": [],
   "source": []
  },
  {
   "cell_type": "code",
   "execution_count": null,
   "id": "6ffc65eb",
   "metadata": {},
   "outputs": [],
   "source": []
  },
  {
   "cell_type": "code",
   "execution_count": null,
   "id": "568cee84",
   "metadata": {},
   "outputs": [],
   "source": []
  },
  {
   "cell_type": "code",
   "execution_count": null,
   "id": "51ce8eac",
   "metadata": {},
   "outputs": [],
   "source": []
  }
 ],
 "metadata": {
  "kernelspec": {
   "display_name": "Python 3 (ipykernel)",
   "language": "python",
   "name": "python3"
  },
  "language_info": {
   "codemirror_mode": {
    "name": "ipython",
    "version": 3
   },
   "file_extension": ".py",
   "mimetype": "text/x-python",
   "name": "python",
   "nbconvert_exporter": "python",
   "pygments_lexer": "ipython3",
   "version": "3.9.12"
  }
 },
 "nbformat": 4,
 "nbformat_minor": 5
}
