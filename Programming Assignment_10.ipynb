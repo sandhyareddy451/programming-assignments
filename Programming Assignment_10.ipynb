{
 "cells": [
  {
   "cell_type": "markdown",
   "id": "474def1e",
   "metadata": {},
   "source": [
    "# 1. Write a Python program to find sum of elements in list?"
   ]
  },
  {
   "cell_type": "code",
   "execution_count": 9,
   "id": "21d34d7d",
   "metadata": {},
   "outputs": [
    {
     "name": "stdout",
     "output_type": "stream",
     "text": [
      "enter the length of list: 5\n",
      "enter 1 value: 2\n",
      "enter 2 value: 3\n",
      "enter 3 value: 4\n",
      "enter 4 value: 5\n",
      "enter 5 value: 7\n",
      "[2, 3, 4, 5, 7]\n",
      "\n",
      "sum of elements in the list:  21\n"
     ]
    }
   ],
   "source": [
    "list=[]\n",
    "sum=0\n",
    "n=int(input(\"enter the length of list: \"))\n",
    "for i in range(1,n+1):\n",
    "    value=int(input(f\"enter {i} value: \"))\n",
    "    list.append(value)\n",
    "print(list)\n",
    "print()\n",
    "for num in list:\n",
    "    sum=sum+num\n",
    "print(f\"sum of elements in the list: \", sum)\n",
    "    "
   ]
  },
  {
   "cell_type": "markdown",
   "id": "65f69f6f",
   "metadata": {},
   "source": [
    "# 2. Write a Python program to Multiply all numbers in the list?"
   ]
  },
  {
   "cell_type": "code",
   "execution_count": 6,
   "id": "9dc26358",
   "metadata": {},
   "outputs": [
    {
     "name": "stdout",
     "output_type": "stream",
     "text": [
      "product of all numbers in the list:  19200\n"
     ]
    }
   ],
   "source": [
    "#consider list\n",
    "\n",
    "list=[4,5,8,10,12]\n",
    "prod=1\n",
    "for x in list:\n",
    "    prod*=x\n",
    "print(f\"product of all numbers in the list: \", prod)"
   ]
  },
  {
   "cell_type": "markdown",
   "id": "a2af52b5",
   "metadata": {},
   "source": [
    "# 3. Write a Python program to find smallest number in a list?"
   ]
  },
  {
   "cell_type": "code",
   "execution_count": 11,
   "id": "1fe4cd57",
   "metadata": {},
   "outputs": [
    {
     "name": "stdout",
     "output_type": "stream",
     "text": [
      "enter the length of list: 4\n",
      "enter the 1 value: 3\n",
      "enter the 2 value: 5\n",
      "enter the 3 value: 7\n",
      "enter the 4 value: 9\n",
      "[3, 5, 7, 9]\n",
      "smallest number in a list is:  3\n"
     ]
    }
   ],
   "source": [
    "list=[]\n",
    "n=int(input(\"enter the length of list: \"))\n",
    "for i in range(1,n+1):\n",
    "    value=int(input(f\"enter the {i} value: \"))\n",
    "    list.append(value)\n",
    "print(list)\n",
    "list.sort()\n",
    "print(\"smallest number in a list is: \",list[0])\n"
   ]
  },
  {
   "cell_type": "markdown",
   "id": "16c6a93d",
   "metadata": {},
   "source": [
    "# 4. Write a Python program to find largest number in a list?"
   ]
  },
  {
   "cell_type": "code",
   "execution_count": 15,
   "id": "91a56613",
   "metadata": {},
   "outputs": [
    {
     "name": "stdout",
     "output_type": "stream",
     "text": [
      "[4, 5, 7, 9, 10, 12, 12, 27]\n",
      "largest number in a list is:  27\n"
     ]
    }
   ],
   "source": [
    "#consider the list\n",
    "\n",
    "list = [4,10,12,5,7,9,27,12]\n",
    "\n",
    "list.sort()\n",
    "\n",
    "print(list)\n",
    "\n",
    "print(\"largest number in a list is: \",list[-1])\n"
   ]
  },
  {
   "cell_type": "markdown",
   "id": "2070c597",
   "metadata": {},
   "source": [
    "# 5. Write a Python program to find second largest number in a list?"
   ]
  },
  {
   "cell_type": "code",
   "execution_count": 17,
   "id": "c97fabd3",
   "metadata": {},
   "outputs": [
    {
     "name": "stdout",
     "output_type": "stream",
     "text": [
      "[4, 5, 6, 7, 8, 10, 12, 27]\n",
      "second largest number in a list is:  12\n"
     ]
    }
   ],
   "source": [
    "#conside the list\n",
    "list = [4,10,12,5,7,8,27,6]\n",
    "\n",
    "list.sort()\n",
    "\n",
    "print(list)\n",
    "\n",
    "print(\"second largest number in a list is: \",list[-2])"
   ]
  },
  {
   "cell_type": "markdown",
   "id": "bd27b837",
   "metadata": {},
   "source": [
    "# 6. Write a Python program to find N largest elements from a list?"
   ]
  },
  {
   "cell_type": "code",
   "execution_count": 28,
   "id": "38e94dda",
   "metadata": {},
   "outputs": [
    {
     "name": "stdout",
     "output_type": "stream",
     "text": [
      "[4, 5, 6, 7, 8, 10, 12, 27]\n",
      "largest elements in a list:  [10, 12, 27]\n"
     ]
    }
   ],
   "source": [
    "list = [4,10,12,5,7,8,27,6]\n",
    "n=3\n",
    "list.sort()\n",
    "print(list)\n",
    "\n",
    "print(\"largest elements in a list: \", list[-n:])"
   ]
  },
  {
   "cell_type": "markdown",
   "id": "87238623",
   "metadata": {},
   "source": [
    "# 7. Write a Python program to print even numbers in a list?"
   ]
  },
  {
   "cell_type": "code",
   "execution_count": 31,
   "id": "4c02ab16",
   "metadata": {},
   "outputs": [
    {
     "name": "stdout",
     "output_type": "stream",
     "text": [
      "even numbers in list are:  [2, 4, 6, 12, 10, 14, 16]\n"
     ]
    }
   ],
   "source": [
    "list =[2,3,4,5,6,12,10,14,16]\n",
    "l1=[]\n",
    "for num in list:\n",
    "    if num%2==0:\n",
    "        l1.append(num)\n",
    "print(\"even numbers in list are: \",l1)\n",
    "        "
   ]
  },
  {
   "cell_type": "markdown",
   "id": "4259ad6d",
   "metadata": {},
   "source": [
    "# 8. Write a Python program to print odd numbers in a List?"
   ]
  },
  {
   "cell_type": "code",
   "execution_count": 32,
   "id": "7ed605db",
   "metadata": {},
   "outputs": [
    {
     "name": "stdout",
     "output_type": "stream",
     "text": [
      "even numbers in list are:  [3, 5, 7, 9, 11]\n"
     ]
    }
   ],
   "source": [
    "list =[2,3,4,5,6,12,10,14,16,7,9,11]\n",
    "l1=[]\n",
    "for num in list:\n",
    "    if num%2!=0:\n",
    "        l1.append(num)\n",
    "print(\"even numbers in list are: \", l1)"
   ]
  },
  {
   "cell_type": "markdown",
   "id": "cbdf1c5c",
   "metadata": {},
   "source": [
    "# 9. Write a Python program to Remove empty List from List?"
   ]
  },
  {
   "cell_type": "code",
   "execution_count": 21,
   "id": "1106f3ae",
   "metadata": {},
   "outputs": [
    {
     "name": "stdout",
     "output_type": "stream",
     "text": [
      "[2, 3, 4, 5, 7, 8, 10]\n"
     ]
    }
   ],
   "source": [
    "list = [2,3,4,[],5,7,[],8,[],10]\n",
    "list2=[]\n",
    "\n",
    "for num in list:\n",
    "    if num!=[]:\n",
    "        list2.append(num)\n",
    "print(list2)\n"
   ]
  },
  {
   "cell_type": "markdown",
   "id": "632c454a",
   "metadata": {},
   "source": [
    "# 10. Write a Python program to Cloning or Copying a list?"
   ]
  },
  {
   "cell_type": "code",
   "execution_count": 9,
   "id": "566cb477",
   "metadata": {},
   "outputs": [
    {
     "name": "stdout",
     "output_type": "stream",
     "text": [
      "before cloning list values:  [2, 3, 6, 8, 9, 10, 12]\n",
      "after cloning list values:  [2, 3, 6, 8, 9, 10, 12]\n"
     ]
    }
   ],
   "source": [
    "list1=[2,3,6,8,9,10,12]\n",
    "print(\"before cloning list values: \", list1)\n",
    "\n",
    "list2=list1.copy()\n",
    "\n",
    "print(\"after cloning list values: \", list2)\n",
    "\n",
    "\n"
   ]
  },
  {
   "cell_type": "code",
   "execution_count": null,
   "id": "c69a1660",
   "metadata": {},
   "outputs": [],
   "source": []
  },
  {
   "cell_type": "code",
   "execution_count": 14,
   "id": "7ea79b11",
   "metadata": {},
   "outputs": [
    {
     "name": "stdout",
     "output_type": "stream",
     "text": [
      "after cloning:  [10, 22, 44, 23, 4]\n"
     ]
    }
   ],
   "source": [
    "#another example\n",
    "list1 = [10, 22, 44, 23, 4]\n",
    "list2=[]\n",
    "for num in list1:\n",
    "    list2.append(num)\n",
    "print(\"after cloning: \",list2)\n"
   ]
  },
  {
   "cell_type": "markdown",
   "id": "68d6891a",
   "metadata": {},
   "source": [
    "# 11. Write a Python program to Count occurrences of an element in a list?"
   ]
  },
  {
   "cell_type": "code",
   "execution_count": 17,
   "id": "e6d60acb",
   "metadata": {},
   "outputs": [
    {
     "name": "stdout",
     "output_type": "stream",
     "text": [
      "no of times 10 occurence in a list is:  3\n"
     ]
    }
   ],
   "source": [
    "list1 = [10, 22, 44, 23, 4, 10,2,10]\n",
    "\n",
    "res = list1.count(10)\n",
    "print(\"no of times 10 occurence in a list is: \", res)"
   ]
  },
  {
   "cell_type": "code",
   "execution_count": null,
   "id": "c847bbf8",
   "metadata": {},
   "outputs": [],
   "source": []
  },
  {
   "cell_type": "code",
   "execution_count": null,
   "id": "5d8e9cf5",
   "metadata": {},
   "outputs": [],
   "source": []
  },
  {
   "cell_type": "code",
   "execution_count": null,
   "id": "16bd2da2",
   "metadata": {},
   "outputs": [],
   "source": []
  },
  {
   "cell_type": "code",
   "execution_count": null,
   "id": "47b1516c",
   "metadata": {},
   "outputs": [],
   "source": []
  },
  {
   "cell_type": "code",
   "execution_count": null,
   "id": "4b211f19",
   "metadata": {},
   "outputs": [],
   "source": []
  }
 ],
 "metadata": {
  "kernelspec": {
   "display_name": "Python 3 (ipykernel)",
   "language": "python",
   "name": "python3"
  },
  "language_info": {
   "codemirror_mode": {
    "name": "ipython",
    "version": 3
   },
   "file_extension": ".py",
   "mimetype": "text/x-python",
   "name": "python",
   "nbconvert_exporter": "python",
   "pygments_lexer": "ipython3",
   "version": "3.9.12"
  }
 },
 "nbformat": 4,
 "nbformat_minor": 5
}
