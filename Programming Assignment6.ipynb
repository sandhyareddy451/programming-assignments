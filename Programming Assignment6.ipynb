{
 "cells": [
  {
   "cell_type": "markdown",
   "id": "bf944b82",
   "metadata": {},
   "source": [
    "# 1. Write a Python Program to Display Fibonacci Sequence Using Recursion?\n",
    "\n",
    "\n",
    "recursion: recursion is nothing but function calling it self.\n",
    "\n",
    "Fibonacci Sequence:0,1,1,2,3,5,8,13,21..........\n"
   ]
  },
  {
   "cell_type": "code",
   "execution_count": 8,
   "id": "b24fd325",
   "metadata": {},
   "outputs": [
    {
     "name": "stdout",
     "output_type": "stream",
     "text": [
      "enter range of sequency: 10\n",
      "0 1 1 2 3 5 8 13 21 34 "
     ]
    }
   ],
   "source": [
    "def fib(n):\n",
    "    if n==0:\n",
    "        return 0\n",
    "    elif n==1:\n",
    "        return 1\n",
    "    else: \n",
    "        return fib(n-2)+fib(n-1)\n",
    "\n",
    "n=int(input(\"enter range of sequency: \"))    \n",
    "for i in range(n):\n",
    "    print(fib(i),end=\" \")"
   ]
  },
  {
   "cell_type": "markdown",
   "id": "4d2d266b",
   "metadata": {},
   "source": [
    "# 2. Write a Python Program to Find Factorial of Number Using Recursion?\n",
    "\n",
    "\n",
    "for example factorial of a number 5 is represented by 5!=1*2*3*4*5=120"
   ]
  },
  {
   "cell_type": "code",
   "execution_count": 11,
   "id": "a1d4dde9",
   "metadata": {},
   "outputs": [
    {
     "name": "stdout",
     "output_type": "stream",
     "text": [
      "enter the number: 5\n",
      "factorial of a 5 is: 120\n"
     ]
    }
   ],
   "source": [
    "def fact(n):\n",
    "    if((n==0) or (n==1)):\n",
    "        return 1\n",
    "    else:\n",
    "        return n*fact(n-1)\n",
    "n=int(input(\"enter the number: \"))\n",
    "print(f\"factorial of a {n} is: {fact(n)}\")"
   ]
  },
  {
   "cell_type": "markdown",
   "id": "1684be71",
   "metadata": {},
   "source": [
    "# 3. Write a Python Program to calculate your Body Mass Index?\n",
    "\n",
    "body mass index can be calculated by using below formula\n",
    "\n",
    "BMI(Body Mass Index) = weight/(height)**2,\n",
    "\n",
    "if you want convert height from cm to m divide height by 100.\n",
    "\n",
    "BMI(Body Mass Index) = weight/(height/100)**2.\n"
   ]
  },
  {
   "cell_type": "code",
   "execution_count": 13,
   "id": "29fbda6f",
   "metadata": {},
   "outputs": [
    {
     "name": "stdout",
     "output_type": "stream",
     "text": [
      "enter your weight: 62\n",
      "enter your height: 150\n",
      "BMI of your body is: 27.555555555555557\n"
     ]
    }
   ],
   "source": [
    "weight=float(input(\"enter your weight: \"))\n",
    "height=float(input(\"enter your height: \"))\n",
    "\n",
    "BMI = weight/((height/100)**2)\n",
    "\n",
    "print(f\"BMI of your body is: {BMI}\")"
   ]
  },
  {
   "cell_type": "markdown",
   "id": "a7416faa",
   "metadata": {},
   "source": [
    "# 4. Write a Python Program to calculate the natural logarithm of any number?\n",
    "\n",
    "\n",
    "to find this problm import math module"
   ]
  },
  {
   "cell_type": "code",
   "execution_count": 18,
   "id": "59929143",
   "metadata": {},
   "outputs": [
    {
     "name": "stdout",
     "output_type": "stream",
     "text": [
      "enter the value to find the natural logerithm: 5\n",
      "natural logerithm of 5 is: 1.6094379124341003\n"
     ]
    }
   ],
   "source": [
    "import math\n",
    "\n",
    "n=int(input(\"enter the value to find the natural logerithm: \"))\n",
    "\n",
    "result=math.log(n)\n",
    "\n",
    "print(f\"natural logerithm of {n} is: {result}\")"
   ]
  },
  {
   "cell_type": "markdown",
   "id": "9538faea",
   "metadata": {},
   "source": [
    "# 5. Write a Python Program for cube sum of first n natural numbers?\n",
    "\n",
    "\n",
    "cube sum of first n natural numbers is calculated by using below formula:\n",
    "\n",
    "sum=(n(n+1))/2)**2"
   ]
  },
  {
   "cell_type": "code",
   "execution_count": 17,
   "id": "8c7eb80a",
   "metadata": {},
   "outputs": [
    {
     "name": "stdout",
     "output_type": "stream",
     "text": [
      "enter the range of value: 5\n",
      "cube sum of first n natural numbers: 225.0\n"
     ]
    }
   ],
   "source": [
    "n=int(input(\"enter the range of value: \"))\n",
    "\n",
    "sum = ((n*(n+1))/2)**2\n",
    "\n",
    "print(f\"cube sum of first n natural numbers: {sum}\")"
   ]
  },
  {
   "cell_type": "code",
   "execution_count": null,
   "id": "4b359034",
   "metadata": {},
   "outputs": [],
   "source": []
  },
  {
   "cell_type": "code",
   "execution_count": null,
   "id": "a696e664",
   "metadata": {},
   "outputs": [],
   "source": []
  },
  {
   "cell_type": "code",
   "execution_count": null,
   "id": "ffe6c627",
   "metadata": {},
   "outputs": [],
   "source": []
  },
  {
   "cell_type": "code",
   "execution_count": null,
   "id": "224553e9",
   "metadata": {},
   "outputs": [],
   "source": []
  },
  {
   "cell_type": "code",
   "execution_count": null,
   "id": "b931a47a",
   "metadata": {},
   "outputs": [],
   "source": []
  },
  {
   "cell_type": "code",
   "execution_count": null,
   "id": "51c5edd3",
   "metadata": {},
   "outputs": [],
   "source": []
  },
  {
   "cell_type": "code",
   "execution_count": null,
   "id": "35f0a5f0",
   "metadata": {},
   "outputs": [],
   "source": []
  },
  {
   "cell_type": "code",
   "execution_count": null,
   "id": "899135aa",
   "metadata": {},
   "outputs": [],
   "source": []
  },
  {
   "cell_type": "code",
   "execution_count": null,
   "id": "1b764917",
   "metadata": {},
   "outputs": [],
   "source": []
  },
  {
   "cell_type": "code",
   "execution_count": null,
   "id": "d4fa8565",
   "metadata": {},
   "outputs": [],
   "source": []
  }
 ],
 "metadata": {
  "kernelspec": {
   "display_name": "Python 3 (ipykernel)",
   "language": "python",
   "name": "python3"
  },
  "language_info": {
   "codemirror_mode": {
    "name": "ipython",
    "version": 3
   },
   "file_extension": ".py",
   "mimetype": "text/x-python",
   "name": "python",
   "nbconvert_exporter": "python",
   "pygments_lexer": "ipython3",
   "version": "3.9.12"
  }
 },
 "nbformat": 4,
 "nbformat_minor": 5
}
