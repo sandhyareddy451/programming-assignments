{
 "cells": [
  {
   "cell_type": "markdown",
   "id": "b25fcffc",
   "metadata": {},
   "source": [
    "## 1. Write a Python program to find words which are greater than given length k?"
   ]
  },
  {
   "cell_type": "code",
   "execution_count": 13,
   "id": "6e856425",
   "metadata": {},
   "outputs": [
    {
     "name": "stdout",
     "output_type": "stream",
     "text": [
      "Pyhton simple easy learn "
     ]
    }
   ],
   "source": [
    "string=\"Pyhton is simple and easy to learn\"\n",
    "k=3\n",
    "word=string.split(\" \")\n",
    "for x in word:\n",
    "    if len(x)>k:\n",
    "        print(x,end=\" \")"
   ]
  },
  {
   "cell_type": "markdown",
   "id": "e7ecfc87",
   "metadata": {},
   "source": [
    "## 2. Write a Python program for removing i-th character from a string?"
   ]
  },
  {
   "cell_type": "code",
   "execution_count": 14,
   "id": "9e60ca25",
   "metadata": {},
   "outputs": [
    {
     "name": "stdout",
     "output_type": "stream",
     "text": [
      "Pyth nPrograming Language\n"
     ]
    }
   ],
   "source": [
    "#consider i th character must be 4\n",
    "string=\"PythonPrograming Language\"\n",
    "i=4\n",
    "a=string[: i]\n",
    "b=string[i+1 :]\n",
    "print(a+\" \"+b)"
   ]
  },
  {
   "cell_type": "markdown",
   "id": "696eca17",
   "metadata": {},
   "source": [
    "## 3. Write a Python program to split and join a string?"
   ]
  },
  {
   "cell_type": "code",
   "execution_count": 20,
   "id": "06edbab4",
   "metadata": {},
   "outputs": [
    {
     "name": "stdout",
     "output_type": "stream",
     "text": [
      "After splitting the string:  ['Python', 'Programming', 'Language']\n",
      "Joining string:  Python-Programming-Language\n"
     ]
    }
   ],
   "source": [
    "string = \"Python Programming Language\"\n",
    "separator = '-'\n",
    "splitting = string.split(\" \")\n",
    "joining = separator.join(splitting)\n",
    "print(\"After splitting the string: \", splitting)\n",
    "print(\"Joining string: \",joining)"
   ]
  },
  {
   "cell_type": "markdown",
   "id": "503a8c1b",
   "metadata": {},
   "source": [
    "## 4. Write a Python to check if a given string is binary string or not?"
   ]
  },
  {
   "cell_type": "code",
   "execution_count": 17,
   "id": "1564d33a",
   "metadata": {},
   "outputs": [
    {
     "name": "stdout",
     "output_type": "stream",
     "text": [
      "its a binary string\n"
     ]
    }
   ],
   "source": [
    "#consider a string\n",
    "\n",
    "string=\"1011010101011111\"\n",
    "b=set(string)\n",
    "if (s==b) or b=={'0'} or b=={'1'}:\n",
    "        print(\"its a binary string\")\n",
    "else:\n",
    "        print(\"its not a binary string\")"
   ]
  },
  {
   "cell_type": "markdown",
   "id": "81fc9321",
   "metadata": {},
   "source": [
    "## 5. Write a Python program to find uncommon words from two Strings?"
   ]
  },
  {
   "cell_type": "code",
   "execution_count": 4,
   "id": "8e029e38",
   "metadata": {},
   "outputs": [
    {
     "name": "stdout",
     "output_type": "stream",
     "text": [
      "Lanuage series "
     ]
    }
   ],
   "source": [
    "string1 = \"Python Lanuage\"\n",
    "string2 =\"Python series\"\n",
    "str1 = string1.split(\" \")\n",
    "str2 = string2.split(\" \")\n",
    "uc=\"\"\n",
    "for i in str1:\n",
    "    if i not in str2:\n",
    "        uc=uc+\" \"+i\n",
    "print(i,end=\" \")\n",
    "for j in str2:\n",
    "    if j not in str1:\n",
    "      uc=uc+\" \"+j\n",
    "print(j,end=\" \")"
   ]
  },
  {
   "cell_type": "markdown",
   "id": "d1b0cabb",
   "metadata": {},
   "source": [
    "## 6. Write a Python Program to find all duplicate characters in string?"
   ]
  },
  {
   "cell_type": "code",
   "execution_count": 13,
   "id": "e6d70a76",
   "metadata": {},
   "outputs": [
    {
     "name": "stdout",
     "output_type": "stream",
     "text": [
      "P o n r g m "
     ]
    }
   ],
   "source": [
    "string=\"Python Programming\"\n",
    "for i in range(0,len(string)):\n",
    "    count=1\n",
    "    for j in range(i+1,len(string)):\n",
    "        if(string[i] == string[j] and string[i] != ' '): \n",
    "            count+=1\n",
    "            string = string[:j] + '0' + string[j+1:] \n",
    "    if (count>1 and string[i]!='0'):\n",
    "        print(string[i],end=\" \")"
   ]
  },
  {
   "cell_type": "markdown",
   "id": "ca45c865",
   "metadata": {},
   "source": [
    "## 7. Write a Python Program to check if a string contains any special character?"
   ]
  },
  {
   "cell_type": "code",
   "execution_count": null,
   "id": "ddab6b45",
   "metadata": {},
   "outputs": [],
   "source": []
  },
  {
   "cell_type": "code",
   "execution_count": 16,
   "id": "f53c1b87",
   "metadata": {},
   "outputs": [
    {
     "name": "stdout",
     "output_type": "stream",
     "text": [
      "string contains special characters\n"
     ]
    }
   ],
   "source": [
    "n=\"Sandhyareddy@$\"\n",
    "n.split()\n",
    "c=0\n",
    "s='[@_!#$%^&*()<>?/\\|}{~:]'\n",
    "for i in range(len(n)):\n",
    "    if n[i] in s:\n",
    "      c+=1   \n",
    "if c>0:\n",
    "    print(\"string contains special characters\")\n",
    "else:\n",
    "    print(\"string not contains special characters\")"
   ]
  },
  {
   "cell_type": "code",
   "execution_count": null,
   "id": "6580e263",
   "metadata": {},
   "outputs": [],
   "source": []
  },
  {
   "cell_type": "code",
   "execution_count": null,
   "id": "f94d5d8a",
   "metadata": {},
   "outputs": [],
   "source": []
  },
  {
   "cell_type": "code",
   "execution_count": 10,
   "id": "2e819c1a",
   "metadata": {},
   "outputs": [
    {
     "name": "stdout",
     "output_type": "stream",
     "text": [
      "P o n r g m "
     ]
    }
   ],
   "source": [
    "\n"
   ]
  },
  {
   "cell_type": "code",
   "execution_count": null,
   "id": "f3dad30e",
   "metadata": {},
   "outputs": [],
   "source": []
  },
  {
   "cell_type": "code",
   "execution_count": null,
   "id": "d4dfc2c4",
   "metadata": {},
   "outputs": [],
   "source": []
  },
  {
   "cell_type": "code",
   "execution_count": null,
   "id": "3fe9df01",
   "metadata": {},
   "outputs": [],
   "source": []
  }
 ],
 "metadata": {
  "kernelspec": {
   "display_name": "Python 3 (ipykernel)",
   "language": "python",
   "name": "python3"
  },
  "language_info": {
   "codemirror_mode": {
    "name": "ipython",
    "version": 3
   },
   "file_extension": ".py",
   "mimetype": "text/x-python",
   "name": "python",
   "nbconvert_exporter": "python",
   "pygments_lexer": "ipython3",
   "version": "3.9.12"
  }
 },
 "nbformat": 4,
 "nbformat_minor": 5
}
