{
 "cells": [
  {
   "cell_type": "markdown",
   "id": "fada6546",
   "metadata": {},
   "source": [
    "# 1. Write a Python program to convert kilometers to miles?\n",
    "\n",
    "\n",
    "conversion of kilometers to miles by using below formula\n",
    "\n",
    "miles=0.621371*kilometers"
   ]
  },
  {
   "cell_type": "code",
   "execution_count": 1,
   "id": "a1a37613",
   "metadata": {},
   "outputs": [
    {
     "name": "stdout",
     "output_type": "stream",
     "text": [
      "enter the value in kilometer: 4\n",
      "value in miles: 2.485484\n"
     ]
    }
   ],
   "source": [
    "k=float(input(\"enter the value in kilometer: \"))\n",
    "\n",
    "miles=0.621371*k\n",
    "\n",
    "print(f\"value in miles: {miles}\")"
   ]
  },
  {
   "cell_type": "markdown",
   "id": "c72c101c",
   "metadata": {},
   "source": [
    "# 2. Write a Python program to convert Celsius to Fahrenheit?\n",
    "\n",
    "conversion of celsious to fahrenhet by using below formula\n",
    "\n",
    "fahrenheat=celicous*1.8+32\n"
   ]
  },
  {
   "cell_type": "code",
   "execution_count": 2,
   "id": "a8838b13",
   "metadata": {},
   "outputs": [
    {
     "name": "stdout",
     "output_type": "stream",
     "text": [
      "enter the temperature in celcious: 37\n",
      "temperature in fahrenheit: 98.60000000000001\n"
     ]
    }
   ],
   "source": [
    "c=float(input(\"enter the temperature in celcious: \"))\n",
    "\n",
    "f=c*1.8+32\n",
    "\n",
    "print(f\"temperature in fahrenheit: {f}\")"
   ]
  },
  {
   "cell_type": "markdown",
   "id": "62f121c1",
   "metadata": {},
   "source": [
    "# 3. Write a Python program to display calendar?"
   ]
  },
  {
   "cell_type": "code",
   "execution_count": 3,
   "id": "65af5afa",
   "metadata": {},
   "outputs": [
    {
     "name": "stdout",
     "output_type": "stream",
     "text": [
      "enter year: 2022\n",
      "enter month: 12\n",
      "\n",
      "   December 2022\n",
      "Mo Tu We Th Fr Sa Su\n",
      "          1  2  3  4\n",
      " 5  6  7  8  9 10 11\n",
      "12 13 14 15 16 17 18\n",
      "19 20 21 22 23 24 25\n",
      "26 27 28 29 30 31\n",
      "\n"
     ]
    }
   ],
   "source": [
    "#importing calendar\n",
    "\n",
    "from calendar import*\n",
    "\n",
    "y=int(input(\"enter year: \"))\n",
    "m=int(input(\"enter month: \"))\n",
    "\n",
    "print(month(y,m))"
   ]
  },
  {
   "cell_type": "markdown",
   "id": "6ccc963f",
   "metadata": {},
   "source": [
    "# 4. Write a Python program to solve quadratic equation?\n",
    "\n",
    "\n",
    "quadratic equation= -b+sqrt((b**2)-4ac)/2*a\n"
   ]
  },
  {
   "cell_type": "code",
   "execution_count": 18,
   "id": "b7c8770b",
   "metadata": {},
   "outputs": [
    {
     "name": "stdout",
     "output_type": "stream",
     "text": [
      "enter a value: 2\n",
      "enter b value: 3\n",
      "enter c value: 4\n",
      "the solutions are (-0.75+1.1989578808281798j) and (-0.75-1.1989578808281798j)\n"
     ]
    }
   ],
   "source": [
    "import cmath\n",
    "a=int(input(\"enter a value: \"))\n",
    "b=int(input(\"enter b value: \"))\n",
    "c=int(input(\"enter c value: \"))\n",
    "#calculating discriminater\n",
    "d=(b**2)-(4*a*c)\n",
    "result1=(-b+cmath.sqrt(d))/(2*a)\n",
    "result2=(-b-cmath.sqrt(d))/(2*a)\n",
    "print(f\"the solutions are {result1} and {result2}\")"
   ]
  },
  {
   "cell_type": "markdown",
   "id": "7dbbbc38",
   "metadata": {},
   "source": [
    "# 5. Write a Python program to swap two variables without temp variable?"
   ]
  },
  {
   "cell_type": "code",
   "execution_count": 20,
   "id": "cc6a8434",
   "metadata": {},
   "outputs": [
    {
     "name": "stdout",
     "output_type": "stream",
     "text": [
      "enter a value: 2\n",
      "enter b value: 3\n",
      "after swapping a value:  3\n",
      "after swapping b value:  2\n"
     ]
    }
   ],
   "source": [
    "a=int(input(\"enter a value: \"))\n",
    "b=int(input(\"enter b value: \"))\n",
    "a,b=b,a\n",
    "\n",
    "print(\"after swapping a value: \", a)\n",
    "print(\"after swapping b value: \", b)"
   ]
  },
  {
   "cell_type": "code",
   "execution_count": null,
   "id": "8c4105d2",
   "metadata": {},
   "outputs": [],
   "source": []
  },
  {
   "cell_type": "code",
   "execution_count": null,
   "id": "aa84a7d7",
   "metadata": {},
   "outputs": [],
   "source": []
  },
  {
   "cell_type": "code",
   "execution_count": null,
   "id": "2e0f350a",
   "metadata": {},
   "outputs": [],
   "source": []
  },
  {
   "cell_type": "code",
   "execution_count": null,
   "id": "b403135e",
   "metadata": {},
   "outputs": [],
   "source": []
  }
 ],
 "metadata": {
  "kernelspec": {
   "display_name": "Python 3 (ipykernel)",
   "language": "python",
   "name": "python3"
  },
  "language_info": {
   "codemirror_mode": {
    "name": "ipython",
    "version": 3
   },
   "file_extension": ".py",
   "mimetype": "text/x-python",
   "name": "python",
   "nbconvert_exporter": "python",
   "pygments_lexer": "ipython3",
   "version": "3.9.12"
  }
 },
 "nbformat": 4,
 "nbformat_minor": 5
}
