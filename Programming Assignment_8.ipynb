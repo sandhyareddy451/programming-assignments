{
 "cells": [
  {
   "cell_type": "markdown",
   "id": "fef0aef7",
   "metadata": {},
   "source": [
    "# 1. Write a Python Program to Add Two Matrices?\n",
    "\n",
    "\n",
    "Addition rule: no of rows and columns of both matrices are equal, then only we can add 2 matrices"
   ]
  },
  {
   "cell_type": "code",
   "execution_count": 3,
   "id": "9e5e4603",
   "metadata": {},
   "outputs": [
    {
     "name": "stdout",
     "output_type": "stream",
     "text": [
      "[10, 12, 10]\n",
      "[7, 10, 13]\n",
      "[7, 10, 15]\n"
     ]
    }
   ],
   "source": [
    "X=[[2,3,4],\n",
    "  [4,5,6],\n",
    "  [5,6,7]]\n",
    "\n",
    "Y=[[8,9,6],\n",
    "  [3,5,7],\n",
    "  [2,4,8]]\n",
    "result=[[0,0,0],\n",
    "       [0,0,0],\n",
    "       [0,0,0]]\n",
    "\n",
    "for i in range(len(X)):\n",
    "    for j in range(len(X[0])):\n",
    "        result[i][j]=X[i][j]+Y[i][j]\n",
    "        \n",
    "for r in result:\n",
    "    print(r)"
   ]
  },
  {
   "cell_type": "markdown",
   "id": "5b0ec8ce",
   "metadata": {},
   "source": [
    "# 2. Write a Python Program to Multiply Two Matrices?\n",
    "\n",
    "\n",
    "multiplication rule: two matrices can be multiplied, only when the number of rows of first matrices can be equal to number of colums of second matrices"
   ]
  },
  {
   "cell_type": "code",
   "execution_count": 8,
   "id": "89528451",
   "metadata": {},
   "outputs": [
    {
     "name": "stdout",
     "output_type": "stream",
     "text": [
      "[8, 16, 32]\n",
      "[12, 24, 48]\n",
      "[14, 28, 56]\n"
     ]
    }
   ],
   "source": [
    "X=[[2,3,4],\n",
    "  [4,5,6],\n",
    "  [5,6,7]]\n",
    "\n",
    "Y=[[8,9,6],\n",
    "  [3,5,7],\n",
    "  [2,4,8]]\n",
    "result=[[0,0,0],\n",
    "       [0,0,0],\n",
    "       [0,0,0]]\n",
    "\n",
    "for i in range(len(X)):\n",
    "    for j in range(len(Y[0])):\n",
    "        for k in range(len(Y)):\n",
    "            result[i][j]=X[i][k]*Y[k][j]\n",
    "        \n",
    "for r in result:\n",
    "    print(r)"
   ]
  },
  {
   "cell_type": "markdown",
   "id": "db10ce26",
   "metadata": {},
   "source": [
    "# 3. Write a Python Program to Transpose a Matrix?\n",
    "\n",
    "\n",
    "Transpose of a matrix: if a matrix is transpose matrix a is uptained by interchanging number of rows into columns"
   ]
  },
  {
   "cell_type": "code",
   "execution_count": 4,
   "id": "4d5ba644",
   "metadata": {},
   "outputs": [
    {
     "name": "stdout",
     "output_type": "stream",
     "text": [
      "[2, 4, 5]\n",
      "[3, 5, 6]\n"
     ]
    }
   ],
   "source": [
    "X=[[2,3],\n",
    "  [4,5],\n",
    "  [5,6]]\n",
    "\n",
    "result=[[0,0,0],\n",
    "       [0,0,0]]\n",
    "\n",
    "\n",
    "for i in range(len(X)):\n",
    "    for j in range(len(X[0])):\n",
    "        result[j][i]=X[i][j]\n",
    "        \n",
    "for r in result:\n",
    "    print(r)"
   ]
  },
  {
   "cell_type": "markdown",
   "id": "d8e9a773",
   "metadata": {},
   "source": [
    "# 4. Write a Python Program to Sort Words in Alphabetic Order?"
   ]
  },
  {
   "cell_type": "code",
   "execution_count": 9,
   "id": "19acb99b",
   "metadata": {},
   "outputs": [
    {
     "name": "stdout",
     "output_type": "stream",
     "text": [
      "enter the string: i am sandhya from hyderabad\n",
      "am\n",
      "from\n",
      "hyderabad\n",
      "i\n",
      "sandhya\n"
     ]
    }
   ],
   "source": [
    "mystr=input(\"enter the string: \")\n",
    "words=mystr.split()\n",
    "words.sort()\n",
    "for word in words:\n",
    "    print(word)"
   ]
  },
  {
   "cell_type": "markdown",
   "id": "690037bf",
   "metadata": {},
   "source": [
    "# 5. Write a Python Program to Remove Punctuation From a String?"
   ]
  },
  {
   "cell_type": "code",
   "execution_count": 14,
   "id": "a2ca5301",
   "metadata": {},
   "outputs": [
    {
     "name": "stdout",
     "output_type": "stream",
     "text": [
      "enter a string: sandhay!@# datascience#^&*\n",
      "sandhay datascience\n"
     ]
    }
   ],
   "source": [
    "punctuations = '''''!()-[]{};:'\"\\,<>./?@#$%^&*_~''' \n",
    "my_str=input(\"enter a string: \")\n",
    "no_punct=\"\"\n",
    "for char in my_str:\n",
    "    if char  not in punctuations:\n",
    "        no_punct=no_punct+char\n",
    "print(no_punct)"
   ]
  },
  {
   "cell_type": "code",
   "execution_count": null,
   "id": "7e1c45b3",
   "metadata": {},
   "outputs": [],
   "source": []
  },
  {
   "cell_type": "code",
   "execution_count": null,
   "id": "b3db194b",
   "metadata": {},
   "outputs": [],
   "source": []
  },
  {
   "cell_type": "code",
   "execution_count": null,
   "id": "c7773d21",
   "metadata": {},
   "outputs": [],
   "source": []
  },
  {
   "cell_type": "code",
   "execution_count": null,
   "id": "c16b2c8a",
   "metadata": {},
   "outputs": [],
   "source": []
  },
  {
   "cell_type": "code",
   "execution_count": null,
   "id": "f4a53d85",
   "metadata": {},
   "outputs": [],
   "source": []
  },
  {
   "cell_type": "code",
   "execution_count": null,
   "id": "8ad64d8f",
   "metadata": {},
   "outputs": [],
   "source": []
  },
  {
   "cell_type": "code",
   "execution_count": null,
   "id": "087fb123",
   "metadata": {},
   "outputs": [],
   "source": []
  },
  {
   "cell_type": "code",
   "execution_count": null,
   "id": "a4041390",
   "metadata": {},
   "outputs": [],
   "source": []
  },
  {
   "cell_type": "code",
   "execution_count": null,
   "id": "29dfa530",
   "metadata": {},
   "outputs": [],
   "source": []
  }
 ],
 "metadata": {
  "kernelspec": {
   "display_name": "Python 3 (ipykernel)",
   "language": "python",
   "name": "python3"
  },
  "language_info": {
   "codemirror_mode": {
    "name": "ipython",
    "version": 3
   },
   "file_extension": ".py",
   "mimetype": "text/x-python",
   "name": "python",
   "nbconvert_exporter": "python",
   "pygments_lexer": "ipython3",
   "version": "3.9.12"
  }
 },
 "nbformat": 4,
 "nbformat_minor": 5
}
