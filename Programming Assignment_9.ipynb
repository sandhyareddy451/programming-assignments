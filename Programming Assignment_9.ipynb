{
 "cells": [
  {
   "cell_type": "markdown",
   "id": "cc0be48e",
   "metadata": {},
   "source": [
    "# 1. Write a Python program to check if the given number is a Disarium Number?\n",
    "\n",
    "\n",
    "Disarium Number : A number is a sum of raised power of its positions is equal to its priginal number is called Disarium Number\n",
    "\n",
    "example: 89---->(8**1)+(9**2)---->8+81=89\n",
    "\n",
    "89=89\n",
    "\n",
    "number is a diaaarium number\n",
    "\n",
    "\n",
    "\n",
    "\n",
    "\n"
   ]
  },
  {
   "cell_type": "code",
   "execution_count": 3,
   "id": "786ce859",
   "metadata": {},
   "outputs": [
    {
     "name": "stdout",
     "output_type": "stream",
     "text": [
      "enter a number: 89\n",
      "89 is a Disarium Number\n"
     ]
    }
   ],
   "source": [
    "n=int(input(\"enter a number: \"))\n",
    "x=n\n",
    "sum=0\n",
    "count=len(str(x))\n",
    "\n",
    "while(x>0):\n",
    "    rem=x%10\n",
    "    sum=sum+rem**count\n",
    "    x=x//10\n",
    "    count=count-1\n",
    "\n",
    "if sum==n:\n",
    "    print(n, \"is a Disarium Number\")\n",
    "else:\n",
    "    print(n, \"is not a Disarium Number\")"
   ]
  },
  {
   "cell_type": "markdown",
   "id": "e1e1608f",
   "metadata": {},
   "source": [
    "# 2. Write a Python program to print all disarium numbers between 1 to 100?"
   ]
  },
  {
   "cell_type": "code",
   "execution_count": 5,
   "id": "3706b5ab",
   "metadata": {},
   "outputs": [
    {
     "name": "stdout",
     "output_type": "stream",
     "text": [
      "1 2 3 4 5 6 7 8 9 89 "
     ]
    }
   ],
   "source": [
    "def disarr(n):\n",
    "    x=n\n",
    "    sum=0\n",
    "    count=len(str(x))\n",
    "\n",
    "    while(x>0):\n",
    "        rem=x%10\n",
    "        sum=sum+rem**count\n",
    "        x=x//10\n",
    "        count=count-1\n",
    "    return sum\n",
    "\n",
    "\n",
    "for i in range(1,101):\n",
    "    if (disarr(i)==i):\n",
    "        print(i, end=\" \")\n",
    "       \n",
    "        \n"
   ]
  },
  {
   "cell_type": "markdown",
   "id": "b6be7a73",
   "metadata": {},
   "source": [
    "# 3. Write a Python program to check if the given number is Happy Number?\n",
    "\n",
    "Happy Number: A number is a happy number when, recurence of sum of the square of a number is equal to single digit value, single digit is equal to 1, means its a happy number\n",
    "\n",
    "ex=\n",
    "\n",
    "13=(1*1)+(3*3)--->1+9---->10\n",
    "10=(1*1)+(0*0)--->1=0----->1\n",
    "\n",
    "13 is a happy number"
   ]
  },
  {
   "cell_type": "code",
   "execution_count": 1,
   "id": "219bf54c",
   "metadata": {},
   "outputs": [
    {
     "name": "stdout",
     "output_type": "stream",
     "text": [
      "enter a number: 13\n",
      "13 is Happy Number\n"
     ]
    }
   ],
   "source": [
    "n=int(input(\"enter a number: \"))\n",
    "x=n\n",
    "while(x>=10):\n",
    "    sum=0\n",
    "    while (x>0):\n",
    "        rem=x%10\n",
    "        sum=sum+(rem*rem)\n",
    "        x=x//10\n",
    "    x=sum\n",
    "   \n",
    "        \n",
    "if (sum == 1):\n",
    "    print(n, \"is Happy Number\")\n",
    "else:\n",
    "    print(n, \"is not a Happy Number\")\n",
    "    "
   ]
  },
  {
   "cell_type": "markdown",
   "id": "5b6b13bf",
   "metadata": {},
   "source": [
    "# 4. Write a Python program to print all happy numbers between 1 and 100?"
   ]
  },
  {
   "cell_type": "code",
   "execution_count": 23,
   "id": "cb06e198",
   "metadata": {},
   "outputs": [
    {
     "name": "stdout",
     "output_type": "stream",
     "text": [
      "1 10 13 19 23 28 31 32 44 49 68 70 79 82 86 91 94 97 100 "
     ]
    }
   ],
   "source": [
    "def happy(n):\n",
    "    x=n\n",
    "    while(x>=10):\n",
    "        sum=0\n",
    "        while (x>0):\n",
    "            rem=x%10\n",
    "            sum=sum+(rem*rem)\n",
    "            x=x//10\n",
    "        x=sum\n",
    "    return x\n",
    "\n",
    "for i in range(1,101):\n",
    "    if happy(i) == 1:\n",
    "        print(i, end=\" \")"
   ]
  },
  {
   "cell_type": "markdown",
   "id": "b8c750a8",
   "metadata": {},
   "source": [
    "# 5. Write a Python program to determine whether the given number is a Harshad Number?\n",
    "\n",
    "\n",
    "if number is divisible by sum of individual numbers then it is a harshad numbers\n",
    "\n",
    "ex==18--->18/(1+8)--->18/9--->2\n"
   ]
  },
  {
   "cell_type": "code",
   "execution_count": 24,
   "id": "fc6ac963",
   "metadata": {},
   "outputs": [
    {
     "name": "stdout",
     "output_type": "stream",
     "text": [
      "enter a number: 18\n",
      "18 is Happy Number\n"
     ]
    }
   ],
   "source": [
    "n=int(input(\"enter a number: \"))\n",
    "x=n\n",
    "sum=0\n",
    "while (x>0):\n",
    "    rem=x%10\n",
    "    sum=sum+rem\n",
    "    x=x//10\n",
    "   \n",
    "        \n",
    "if (n%sum == 0):\n",
    "    print(n, \"is Happy Number\")\n",
    "else:\n",
    "    print(n, \"is not a Happy Number\")\n",
    "    "
   ]
  },
  {
   "cell_type": "markdown",
   "id": "5cee0b21",
   "metadata": {},
   "source": [
    "# 6. Write a Python program to print all pronic numbers between 1 and 100?\n",
    "\n",
    "Pronic number: Pronic number is a number, where the product of 2 consecutive numbers is equal to given number then its a pronic number\n",
    "\n",
    "ex= 6-----2*3---->pronic number\n",
    "    5-----5*2---->not a pronic number\n"
   ]
  },
  {
   "cell_type": "code",
   "execution_count": 12,
   "id": "33705115",
   "metadata": {},
   "outputs": [
    {
     "name": "stdout",
     "output_type": "stream",
     "text": [
      "2 6 12 20 30 42 56 72 90 "
     ]
    }
   ],
   "source": [
    "def pronic(n):\n",
    "    flag=False\n",
    "\n",
    "    for i in range(1,n+1):\n",
    "        if(i*(i+1))==n:\n",
    "            flag=True\n",
    "            break\n",
    "    return flag\n",
    "for x in range(1,101):\n",
    "    if(pronic(x)):\n",
    "        print(x, end=\" \")\n"
   ]
  },
  {
   "cell_type": "code",
   "execution_count": null,
   "id": "3d6727a5",
   "metadata": {},
   "outputs": [],
   "source": []
  },
  {
   "cell_type": "code",
   "execution_count": null,
   "id": "8181e482",
   "metadata": {},
   "outputs": [],
   "source": []
  },
  {
   "cell_type": "code",
   "execution_count": null,
   "id": "afdd4939",
   "metadata": {},
   "outputs": [],
   "source": []
  },
  {
   "cell_type": "code",
   "execution_count": null,
   "id": "9ce77d7d",
   "metadata": {},
   "outputs": [],
   "source": []
  },
  {
   "cell_type": "code",
   "execution_count": null,
   "id": "0d917c3b",
   "metadata": {},
   "outputs": [],
   "source": []
  },
  {
   "cell_type": "code",
   "execution_count": null,
   "id": "4e07d4ab",
   "metadata": {},
   "outputs": [],
   "source": []
  },
  {
   "cell_type": "code",
   "execution_count": null,
   "id": "fbbf3eb6",
   "metadata": {},
   "outputs": [],
   "source": []
  }
 ],
 "metadata": {
  "kernelspec": {
   "display_name": "Python 3 (ipykernel)",
   "language": "python",
   "name": "python3"
  },
  "language_info": {
   "codemirror_mode": {
    "name": "ipython",
    "version": 3
   },
   "file_extension": ".py",
   "mimetype": "text/x-python",
   "name": "python",
   "nbconvert_exporter": "python",
   "pygments_lexer": "ipython3",
   "version": "3.9.12"
  }
 },
 "nbformat": 4,
 "nbformat_minor": 5
}
