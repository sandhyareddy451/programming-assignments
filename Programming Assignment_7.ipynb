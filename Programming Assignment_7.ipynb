{
 "cells": [
  {
   "cell_type": "markdown",
   "id": "c16fa1d5",
   "metadata": {},
   "source": [
    "# 1. Write a Python Program to find sum of array?"
   ]
  },
  {
   "cell_type": "code",
   "execution_count": 9,
   "id": "ab33e14e",
   "metadata": {},
   "outputs": [
    {
     "name": "stdout",
     "output_type": "stream",
     "text": [
      "sum of elements of an array is: 30\n"
     ]
    }
   ],
   "source": [
    "#consider an array\n",
    "arr=[2,4,6,8,10]\n",
    "sum=0\n",
    "for e in arr:\n",
    "    sum+=e\n",
    "print(f\"sum of elements of an array is: {sum}\")"
   ]
  },
  {
   "cell_type": "markdown",
   "id": "9b29a03b",
   "metadata": {},
   "source": [
    "# 2. Write a Python Program to find largest element in an array?"
   ]
  },
  {
   "cell_type": "code",
   "execution_count": 19,
   "id": "c887dc44",
   "metadata": {},
   "outputs": [
    {
     "name": "stdout",
     "output_type": "stream",
     "text": [
      "largest number in arr is: 31\n"
     ]
    }
   ],
   "source": [
    "#consider an array\n",
    "arr=[10,20,25,31,4,6,8,10]\n",
    "arr.sort()\n",
    "max=arr[0]\n",
    "for i in range(len(arr)):\n",
    "    if arr[i]>max:\n",
    "        max=arr[i]\n",
    "print(f\"largest number in arr is: {max}\")"
   ]
  },
  {
   "cell_type": "markdown",
   "id": "b342efeb",
   "metadata": {},
   "source": [
    "# 3. Write a Python Program for array rotation?"
   ]
  },
  {
   "cell_type": "code",
   "execution_count": 22,
   "id": "a6175241",
   "metadata": {},
   "outputs": [
    {
     "name": "stdout",
     "output_type": "stream",
     "text": [
      "original array: [2, 4, 6, 7, 8, 9, 10, 12]\n",
      "array after rotate by 3 steps: [7, 8, 9, 10, 12, 2, 4, 6]\n"
     ]
    }
   ],
   "source": [
    "#using slicing technic\n",
    "def rotatearr(arr,d,n): #d is how many steps you want to rotate and n is the length of array\n",
    "        arr[:]=arr[d:n]+arr[0:d]\n",
    "        return arr\n",
    "arr=[2,4,6,7,8,9,10,12]\n",
    "print(f\"original array: {arr}\")\n",
    "\n",
    "print(f\"array after rotate by 3 steps: {rotatearr(arr,3,len(arr))}\")\n"
   ]
  },
  {
   "cell_type": "markdown",
   "id": "19d9e66b",
   "metadata": {},
   "source": [
    "# 4. Write a Python Program to Split the array and add the first part to the end?"
   ]
  },
  {
   "cell_type": "code",
   "execution_count": 18,
   "id": "6e538e2b",
   "metadata": {},
   "outputs": [
    {
     "name": "stdout",
     "output_type": "stream",
     "text": [
      "first part:  [2, 4, 6]\n",
      "7 8 9 10 12 2 4 6 "
     ]
    }
   ],
   "source": [
    "arr=[2,4,6,7,8,9,10,12]\n",
    "position=3\n",
    "n=len(arr)\n",
    "x=arr[:position] #splitting of array from index values 0 to 3\n",
    "y=arr[position:] #splitting of array from index values 3 to n\n",
    "y.extend(x)#by usind extend method add the first part of array \n",
    "print(\"first part: \",x)\n",
    "for i in y:\n",
    "    print(i, end=\" \")"
   ]
  },
  {
   "cell_type": "markdown",
   "id": "0440e527",
   "metadata": {},
   "source": [
    "# 5. Write a Python Program to check if given array is Monotonic?"
   ]
  },
  {
   "cell_type": "code",
   "execution_count": 7,
   "id": "4aa27bde",
   "metadata": {},
   "outputs": [
    {
     "name": "stdout",
     "output_type": "stream",
     "text": [
      "True\n"
     ]
    }
   ],
   "source": [
    "def isMonotonic(A):\n",
    "   return (all(A[i] <= A[i + 1] for i in range(len(A) - 1)) or\n",
    "      all(A[i] >= A[i + 1] for i in range(len(A) - 1)))\n",
    "A = [1,2,3,4,7,8]\n",
    "print(isMonotonic(A))"
   ]
  },
  {
   "cell_type": "code",
   "execution_count": null,
   "id": "62da35e5",
   "metadata": {},
   "outputs": [],
   "source": []
  },
  {
   "cell_type": "code",
   "execution_count": null,
   "id": "d0e11a25",
   "metadata": {},
   "outputs": [],
   "source": []
  },
  {
   "cell_type": "code",
   "execution_count": null,
   "id": "66c1ebae",
   "metadata": {},
   "outputs": [],
   "source": []
  },
  {
   "cell_type": "code",
   "execution_count": null,
   "id": "ac820d63",
   "metadata": {},
   "outputs": [],
   "source": []
  },
  {
   "cell_type": "code",
   "execution_count": null,
   "id": "2e3e9266",
   "metadata": {},
   "outputs": [],
   "source": []
  },
  {
   "cell_type": "code",
   "execution_count": null,
   "id": "17bdca84",
   "metadata": {},
   "outputs": [],
   "source": []
  },
  {
   "cell_type": "code",
   "execution_count": null,
   "id": "c2cfac6d",
   "metadata": {},
   "outputs": [],
   "source": []
  },
  {
   "cell_type": "code",
   "execution_count": null,
   "id": "80213e4a",
   "metadata": {},
   "outputs": [],
   "source": []
  },
  {
   "cell_type": "code",
   "execution_count": null,
   "id": "d3f04a61",
   "metadata": {},
   "outputs": [],
   "source": []
  },
  {
   "cell_type": "code",
   "execution_count": null,
   "id": "0785907c",
   "metadata": {},
   "outputs": [],
   "source": []
  },
  {
   "cell_type": "code",
   "execution_count": null,
   "id": "7e18cc6f",
   "metadata": {},
   "outputs": [],
   "source": []
  },
  {
   "cell_type": "code",
   "execution_count": null,
   "id": "e81e982b",
   "metadata": {},
   "outputs": [],
   "source": []
  },
  {
   "cell_type": "code",
   "execution_count": null,
   "id": "386290c8",
   "metadata": {},
   "outputs": [],
   "source": []
  },
  {
   "cell_type": "code",
   "execution_count": null,
   "id": "4883d706",
   "metadata": {},
   "outputs": [],
   "source": []
  },
  {
   "cell_type": "code",
   "execution_count": null,
   "id": "69cf5971",
   "metadata": {},
   "outputs": [],
   "source": []
  }
 ],
 "metadata": {
  "kernelspec": {
   "display_name": "Python 3 (ipykernel)",
   "language": "python",
   "name": "python3"
  },
  "language_info": {
   "codemirror_mode": {
    "name": "ipython",
    "version": 3
   },
   "file_extension": ".py",
   "mimetype": "text/x-python",
   "name": "python",
   "nbconvert_exporter": "python",
   "pygments_lexer": "ipython3",
   "version": "3.9.12"
  }
 },
 "nbformat": 4,
 "nbformat_minor": 5
}
