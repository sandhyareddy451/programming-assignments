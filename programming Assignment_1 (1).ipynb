{
 "cells": [
  {
   "cell_type": "markdown",
   "id": "0f7cb603",
   "metadata": {},
   "source": [
    "# 1. Write a Python program to print &quot;Hello Python&quot;?"
   ]
  },
  {
   "cell_type": "code",
   "execution_count": 11,
   "id": "18e64bfc",
   "metadata": {},
   "outputs": [
    {
     "name": "stdout",
     "output_type": "stream",
     "text": [
      "\"Hello Python\"\n"
     ]
    }
   ],
   "source": [
    "print('\"Hello Python\"')#with double quotes"
   ]
  },
  {
   "cell_type": "code",
   "execution_count": 12,
   "id": "14540c87",
   "metadata": {},
   "outputs": [
    {
     "name": "stdout",
     "output_type": "stream",
     "text": [
      "Hello Python\n"
     ]
    }
   ],
   "source": [
    "print(\"Hello Python\")#without double quotes"
   ]
  },
  {
   "cell_type": "markdown",
   "id": "a385d7e0",
   "metadata": {},
   "source": [
    "# 2. Write a Python program to do arithmetical operations addition and division.?"
   ]
  },
  {
   "cell_type": "code",
   "execution_count": 6,
   "id": "53dc7ec8",
   "metadata": {},
   "outputs": [
    {
     "name": "stdout",
     "output_type": "stream",
     "text": [
      "enter 1st number: 10\n",
      "enter 2st number: 2\n",
      "addition of two numbers is: 12\n",
      "division of two numbers is: 5.0\n",
      "division of two numbers for getting integer output  : 5\n"
     ]
    }
   ],
   "source": [
    "#addition\n",
    "\n",
    "num1=int(input(\"enter 1st number: \"))\n",
    "num2=int(input(\"enter 2st number: \"))\n",
    "add=num1+num2\n",
    "print(f\"addition of two numbers is: {add}\", )\n",
    "\n",
    "#division\n",
    "div1=num1/num2 #you are getting floatting output\n",
    "div2=num1//num2#you are getting integer output\n",
    "print(f\"division of two numbers is: {div1}\")\n",
    "print(f\"division of two numbers for getting integer output  : {div2}\")"
   ]
  },
  {
   "cell_type": "markdown",
   "id": "9b8a471c",
   "metadata": {},
   "source": [
    "# 3. Write a Python program to find the area of a triangle?\n",
    "\n",
    "\n",
    "area of traingle if 3 sides are given\n",
    "\n",
    "area=sqrt(s*(s-a)*(s-b)*(s-c))\n",
    "\n",
    "where s=a+b+c/2\n"
   ]
  },
  {
   "cell_type": "code",
   "execution_count": 7,
   "id": "0278e1ca",
   "metadata": {},
   "outputs": [
    {
     "name": "stdout",
     "output_type": "stream",
     "text": [
      "enter the a side value: 3\n",
      "enter the b side value: 4\n",
      "enter the c side value: 5\n",
      "area of triangle is: 6.0\n"
     ]
    }
   ],
   "source": [
    "a=float(input(\"enter the a side value: \"))\n",
    "b=float(input(\"enter the b side value: \"))\n",
    "c=float(input(\"enter the c side value: \"))\n",
    "\n",
    "s=(a+b+c)/2\n",
    "area=(s*(s-a)*(s-b)*(s-c))**0.5\n",
    "print(f\"area of triangle is: {area}\")\n"
   ]
  },
  {
   "cell_type": "markdown",
   "id": "9157a5a8",
   "metadata": {},
   "source": [
    "# 4. Write a Python program to swap two variables?\n",
    "\n",
    "swaping is nothing but changing of values."
   ]
  },
  {
   "cell_type": "code",
   "execution_count": 10,
   "id": "225e8ac0",
   "metadata": {},
   "outputs": [
    {
     "name": "stdout",
     "output_type": "stream",
     "text": [
      "enter a value: 4\n",
      "enter b value: 5\n",
      "a value after swaping:  5\n",
      "b value after swaping:  4\n"
     ]
    }
   ],
   "source": [
    "a=int(input(\"enter a value: \"))\n",
    "b=int(input(\"enter b value: \"))\n",
    "#swaping of variable using 3rd variable temp\n",
    "\n",
    "temp=a\n",
    "a=b\n",
    "b=temp\n",
    "\n",
    "print(\"a value after swaping: \",a)\n",
    "print(\"b value after swaping: \",b)\n"
   ]
  },
  {
   "cell_type": "markdown",
   "id": "39cb7eb8",
   "metadata": {},
   "source": [
    "# 5. Write a Python program to generate a random number?"
   ]
  },
  {
   "cell_type": "code",
   "execution_count": 15,
   "id": "b5b7c4ed",
   "metadata": {},
   "outputs": [
    {
     "data": {
      "text/plain": [
       "13"
      ]
     },
     "execution_count": 15,
     "metadata": {},
     "output_type": "execute_result"
    }
   ],
   "source": [
    "import random \n",
    "random.randint(1,100)#by using this we can generate any random value between 1 to 100"
   ]
  },
  {
   "cell_type": "code",
   "execution_count": null,
   "id": "860c27c1",
   "metadata": {},
   "outputs": [],
   "source": []
  },
  {
   "cell_type": "code",
   "execution_count": null,
   "id": "ef1a0f6b",
   "metadata": {},
   "outputs": [],
   "source": []
  },
  {
   "cell_type": "code",
   "execution_count": null,
   "id": "0dc735fe",
   "metadata": {},
   "outputs": [],
   "source": []
  },
  {
   "cell_type": "code",
   "execution_count": null,
   "id": "08e1b36a",
   "metadata": {},
   "outputs": [],
   "source": []
  },
  {
   "cell_type": "code",
   "execution_count": null,
   "id": "1e34c440",
   "metadata": {},
   "outputs": [],
   "source": []
  },
  {
   "cell_type": "code",
   "execution_count": null,
   "id": "6291aa99",
   "metadata": {},
   "outputs": [],
   "source": []
  },
  {
   "cell_type": "code",
   "execution_count": null,
   "id": "743d5bbd",
   "metadata": {},
   "outputs": [],
   "source": []
  },
  {
   "cell_type": "code",
   "execution_count": null,
   "id": "5eecfd9f",
   "metadata": {},
   "outputs": [],
   "source": []
  },
  {
   "cell_type": "code",
   "execution_count": null,
   "id": "6705c15d",
   "metadata": {},
   "outputs": [],
   "source": []
  },
  {
   "cell_type": "code",
   "execution_count": null,
   "id": "8a1efb9b",
   "metadata": {},
   "outputs": [],
   "source": []
  },
  {
   "cell_type": "code",
   "execution_count": null,
   "id": "1afa8226",
   "metadata": {},
   "outputs": [],
   "source": []
  }
 ],
 "metadata": {
  "kernelspec": {
   "display_name": "Python 3 (ipykernel)",
   "language": "python",
   "name": "python3"
  },
  "language_info": {
   "codemirror_mode": {
    "name": "ipython",
    "version": 3
   },
   "file_extension": ".py",
   "mimetype": "text/x-python",
   "name": "python",
   "nbconvert_exporter": "python",
   "pygments_lexer": "ipython3",
   "version": "3.9.12"
  }
 },
 "nbformat": 4,
 "nbformat_minor": 5
}
