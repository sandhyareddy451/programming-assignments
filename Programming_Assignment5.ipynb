{
 "cells": [
  {
   "cell_type": "markdown",
   "id": "c2136b0f",
   "metadata": {},
   "source": [
    "# 1. Write a Python Program to Find LCM?\n",
    "\n",
    "L.C.M = least common multiple\n"
   ]
  },
  {
   "cell_type": "code",
   "execution_count": 3,
   "id": "1fe22f96",
   "metadata": {},
   "outputs": [
    {
     "name": "stdout",
     "output_type": "stream",
     "text": [
      "enter the num1: 4\n",
      "enter the num2: 24\n",
      "lcm of 4 and 24 is: 24\n"
     ]
    }
   ],
   "source": [
    "num1=int(input(\"enter the num1: \"))\n",
    "num2=int(input(\"enter the num2: \"))\n",
    "\n",
    "maxnum=max(num1,num2)\n",
    "\n",
    "while(True):\n",
    "    if((maxnum%num1)==0 and (maxnum%num2)==0):\n",
    "        lcm=maxnum\n",
    "        break\n",
    "    maxnum=maxnum+1\n",
    "print(f\"lcm of {num1} and {num2} is: {maxnum}\")\n",
    "        "
   ]
  },
  {
   "cell_type": "markdown",
   "id": "2171433f",
   "metadata": {},
   "source": [
    "# 2. Write a Python Program to Find HCF?\n",
    "\n",
    "\n",
    "H.C.F = Highest common factor"
   ]
  },
  {
   "cell_type": "code",
   "execution_count": 14,
   "id": "3e987822",
   "metadata": {},
   "outputs": [
    {
     "name": "stdout",
     "output_type": "stream",
     "text": [
      "enter the n1: 24\n",
      "enter the n2: 36\n",
      "hcf of 24 and 36 is: 12\n"
     ]
    }
   ],
   "source": [
    "n1=int(input(\"enter the n1: \"))\n",
    "n2=int(input(\"enter the n2: \"))\n",
    "\n",
    "\n",
    "if (n2>n1):\n",
    "    min = n1\n",
    "else:\n",
    "    min = n2\n",
    "for i in range(1, min+1):\n",
    "    if((n1%i)==0) and ((n2%i)==0):\n",
    "        hcf=i\n",
    "print(f\"hcf of {n1} and {n2} is: {hcf}\")"
   ]
  },
  {
   "cell_type": "markdown",
   "id": "5967771f",
   "metadata": {},
   "source": [
    "# 3. Write a Python Program to Convert Decimal to Binary, Octal and Hexadecimal?"
   ]
  },
  {
   "cell_type": "code",
   "execution_count": 2,
   "id": "928b5b5c",
   "metadata": {},
   "outputs": [
    {
     "name": "stdout",
     "output_type": "stream",
     "text": [
      "enter the decimal value: 6\n",
      "binary value of 6 is:  0b110\n",
      "octal value of 6 is:  0o6\n",
      "hexadecimal value of 6 is:  0x6\n"
     ]
    }
   ],
   "source": [
    "n=int(input(\"enter the decimal value: \"))\n",
    "\n",
    "print(f\"binary value of {n} is: \",bin(n))\n",
    "print(f\"octal value of {n} is: \",oct(n))\n",
    "print(f\"hexadecimal value of {n} is: \",hex(n))"
   ]
  },
  {
   "cell_type": "markdown",
   "id": "26424970",
   "metadata": {},
   "source": [
    "# 4. Write a Python Program To Find ASCII value of a character?"
   ]
  },
  {
   "cell_type": "code",
   "execution_count": 3,
   "id": "fbbd664b",
   "metadata": {},
   "outputs": [
    {
     "name": "stdout",
     "output_type": "stream",
     "text": [
      "enter a character: a\n",
      "ASCII value of {char} is:  97\n"
     ]
    }
   ],
   "source": [
    "char=input(\"enter a character: \")\n",
    "\n",
    "print(\"ASCII value of {char} is: \", ord(char))"
   ]
  },
  {
   "cell_type": "markdown",
   "id": "37dca88b",
   "metadata": {},
   "source": [
    "# 5. Write a Python Program to Make a Simple Calculator with 4 basic mathematical operations"
   ]
  },
  {
   "cell_type": "code",
   "execution_count": null,
   "id": "ccf851d0",
   "metadata": {},
   "outputs": [
    {
     "name": "stdout",
     "output_type": "stream",
     "text": [
      " 1 for Addition \n",
      " 2 for subtraction \n",
      " 3 for multiplication \n",
      " 4 for Division \n",
      " q or Q for exit \n",
      "\n",
      "select options: 3\n",
      "enter value of n1: 4\n",
      "enter value of n2: 3\n",
      "multiplication of {n1} and {n2} is:  12\n",
      "\n",
      " 1 for Addition \n",
      " 2 for subtraction \n",
      " 3 for multiplication \n",
      " 4 for Division \n",
      " q or Q for exit \n",
      "\n"
     ]
    }
   ],
   "source": [
    "while(True):\n",
    "    \n",
    "    print(\" 1 for Addition \")\n",
    "    print(\" 2 for subtraction \")\n",
    "    print(\" 3 for multiplication \")\n",
    "    print(\" 4 for Division \")\n",
    "    print(\" q or Q for exit \\n\")\n",
    "    \n",
    "    choice=input(\"select options: \")\n",
    "    \n",
    "    if choice==\"q\" or choice==\"Q\":\n",
    "            break\n",
    "        \n",
    "    \n",
    "    n1=int(input(\"enter value of n1: \"))\n",
    "    n2=int(input(\"enter value of n2: \"))\n",
    "\n",
    "    if choice==\"1\":\n",
    "        print(\"addition of {n1} and {n2} is: \", n1+n2)\n",
    "\n",
    "    elif choice==\"2\":\n",
    "        print(\"subtraction of {n1} and {n2} is: \", n1-n2)\n",
    "\n",
    "    elif choice==\"3\":\n",
    "        print(\"multiplication of {n1} and {n2} is: \", n1*n2)\n",
    "        \n",
    "    elif choice==\"4\":\n",
    "        if n2==0:\n",
    "            print(\"division by zero error\")\n",
    "            \n",
    "        else:\n",
    "            print(\"division of {n1} and {n2} is: \", n1/n2)\n",
    "    print()\n",
    "else:\n",
    "    print(\"invalid input\")\n"
   ]
  },
  {
   "cell_type": "code",
   "execution_count": null,
   "id": "7cb50cf5",
   "metadata": {},
   "outputs": [],
   "source": []
  },
  {
   "cell_type": "code",
   "execution_count": null,
   "id": "fd46ac82",
   "metadata": {},
   "outputs": [],
   "source": []
  },
  {
   "cell_type": "code",
   "execution_count": null,
   "id": "e073798f",
   "metadata": {},
   "outputs": [],
   "source": []
  },
  {
   "cell_type": "code",
   "execution_count": null,
   "id": "fda45aa6",
   "metadata": {},
   "outputs": [],
   "source": []
  },
  {
   "cell_type": "code",
   "execution_count": null,
   "id": "56c3a411",
   "metadata": {},
   "outputs": [],
   "source": []
  },
  {
   "cell_type": "code",
   "execution_count": null,
   "id": "a0b8fae3",
   "metadata": {},
   "outputs": [],
   "source": []
  },
  {
   "cell_type": "code",
   "execution_count": null,
   "id": "fafe42aa",
   "metadata": {},
   "outputs": [],
   "source": []
  },
  {
   "cell_type": "code",
   "execution_count": null,
   "id": "9e736176",
   "metadata": {},
   "outputs": [],
   "source": []
  },
  {
   "cell_type": "code",
   "execution_count": null,
   "id": "6a261488",
   "metadata": {},
   "outputs": [],
   "source": []
  },
  {
   "cell_type": "code",
   "execution_count": null,
   "id": "3ce5c25c",
   "metadata": {},
   "outputs": [],
   "source": []
  },
  {
   "cell_type": "code",
   "execution_count": null,
   "id": "5a9240a0",
   "metadata": {},
   "outputs": [],
   "source": []
  }
 ],
 "metadata": {
  "kernelspec": {
   "display_name": "Python 3 (ipykernel)",
   "language": "python",
   "name": "python3"
  },
  "language_info": {
   "codemirror_mode": {
    "name": "ipython",
    "version": 3
   },
   "file_extension": ".py",
   "mimetype": "text/x-python",
   "name": "python",
   "nbconvert_exporter": "python",
   "pygments_lexer": "ipython3",
   "version": "3.9.12"
  }
 },
 "nbformat": 4,
 "nbformat_minor": 5
}
