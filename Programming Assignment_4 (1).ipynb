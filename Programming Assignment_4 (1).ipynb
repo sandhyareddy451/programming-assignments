{
 "cells": [
  {
   "cell_type": "markdown",
   "id": "b54affbb",
   "metadata": {},
   "source": [
    "# 1. Write a Python Program to Find the Factorial of a Number?\n",
    "\n",
    "factorial of 5!=1x2x3x4x5"
   ]
  },
  {
   "cell_type": "code",
   "execution_count": 13,
   "id": "3baebbf5",
   "metadata": {},
   "outputs": [
    {
     "name": "stdout",
     "output_type": "stream",
     "text": [
      "enter the value: 5\n",
      "factorial of 5 is:  120\n"
     ]
    }
   ],
   "source": [
    "n=int(input(\"enter the value: \"))\n",
    "fact=1\n",
    "for i in range(1,n+1):\n",
    "    if n<0:\n",
    "        print(\"factorial not exist for negative values\")\n",
    "    elif n==0:\n",
    "        print(\"factorial of 0 is 1\")\n",
    "    else:\n",
    "        fact=fact*i\n",
    "print(f\"factorial of {n} is: \", fact)"
   ]
  },
  {
   "cell_type": "markdown",
   "id": "df7aa3dc",
   "metadata": {},
   "source": [
    "# 2. Write a Python Program to Display the multiplication Table?"
   ]
  },
  {
   "cell_type": "code",
   "execution_count": 19,
   "id": "c20611c8",
   "metadata": {},
   "outputs": [
    {
     "name": "stdout",
     "output_type": "stream",
     "text": [
      "enter a number which table you want: 4\n",
      "4 x 1 = 4\n",
      "4 x 2 = 8\n",
      "4 x 3 = 12\n",
      "4 x 4 = 16\n",
      "4 x 5 = 20\n",
      "4 x 6 = 24\n",
      "4 x 7 = 28\n",
      "4 x 8 = 32\n",
      "4 x 9 = 36\n",
      "4 x 10 = 40\n"
     ]
    }
   ],
   "source": [
    "num=int(input(\"enter a number which table you want: \"))\n",
    "\n",
    "for i in range(1,11):\n",
    "    print(num,'x',i,'=', num*i)"
   ]
  },
  {
   "cell_type": "markdown",
   "id": "695eec56",
   "metadata": {},
   "source": [
    "# 3. Write a Python Program to Print the Fibonacci sequence?\n",
    "\n",
    "fibonaci series are 0,1,1,2,3,5......"
   ]
  },
  {
   "cell_type": "code",
   "execution_count": 10,
   "id": "e9db32a6",
   "metadata": {},
   "outputs": [
    {
     "name": "stdout",
     "output_type": "stream",
     "text": [
      "enter number of terms: 10\n",
      "0 1 1 2 3 5 8 13 21 34 "
     ]
    }
   ],
   "source": [
    "n=int(input(\"enter number of terms: \"))\n",
    "a=0\n",
    "b=1\n",
    "print(a, b, end=\" \")\n",
    "for i in range(2,n):\n",
    "    if n>0:\n",
    "        c=a+b\n",
    "        print(c,end=\" \")\n",
    "        a=b\n",
    "        b=c\n",
    "else:\n",
    "        if n<=0:\n",
    "            print(\"fibonacci series for negitive and zero values is \",a)"
   ]
  },
  {
   "cell_type": "markdown",
   "id": "a7bbfadb",
   "metadata": {},
   "source": [
    "# 4. Write a Python Program to Check Armstrong Number?\n",
    "\n",
    "armstrong number=sum of nth power of each number is equal to the same value it is a armstrong number\n",
    "\n",
    "ex: 153 here number 153 have 3 digits so\n",
    "1**3+5**3+3**3=153\n"
   ]
  },
  {
   "cell_type": "code",
   "execution_count": 13,
   "id": "cd16be43",
   "metadata": {},
   "outputs": [
    {
     "name": "stdout",
     "output_type": "stream",
     "text": [
      "enter the number: 470\n",
      "not armstrong number\n"
     ]
    }
   ],
   "source": [
    "n=int(input(\"enter the number: \"))\n",
    "sum=0\n",
    "temp=n\n",
    "n1=len(str(i))\n",
    "while temp>0:\n",
    "       \n",
    "        digit=temp%10\n",
    "        sum=sum+digit**n1\n",
    "        temp=temp//10\n",
    "if sum==n:\n",
    "    print(\"armstrong number\")\n",
    "else:\n",
    "    print(\"not armstrong number\")"
   ]
  },
  {
   "cell_type": "markdown",
   "id": "634ccde5",
   "metadata": {},
   "source": [
    "# 5. Write a Python Program to Find Armstrong Number in an Interval?"
   ]
  },
  {
   "cell_type": "code",
   "execution_count": 3,
   "id": "b515c5ba",
   "metadata": {},
   "outputs": [
    {
     "name": "stdout",
     "output_type": "stream",
     "text": [
      "153\n",
      "370\n",
      "371\n",
      "407\n"
     ]
    }
   ],
   "source": [
    "for i in range(100,1000):\n",
    "    sum=0\n",
    "    temp=i\n",
    "    n=len(str(i))\n",
    "\n",
    "    while temp>0:\n",
    "        digit=temp%10\n",
    "        sum=sum+digit**n\n",
    "        temp=temp//10\n",
    "    \n",
    "    if sum==i:\n",
    "        print(i)"
   ]
  },
  {
   "cell_type": "markdown",
   "id": "4a595c46",
   "metadata": {},
   "source": [
    "# 6. Write a Python Program to Find the Sum of Natural Numbers?"
   ]
  },
  {
   "cell_type": "code",
   "execution_count": 7,
   "id": "8b02197f",
   "metadata": {},
   "outputs": [
    {
     "name": "stdout",
     "output_type": "stream",
     "text": [
      "enter value: 100\n",
      "5050.0\n"
     ]
    }
   ],
   "source": [
    "n=int(input(\"enter value: \"))\n",
    "result=(n*(n+1))*0.5\n",
    "print(result)"
   ]
  },
  {
   "cell_type": "code",
   "execution_count": null,
   "id": "8481bf22",
   "metadata": {},
   "outputs": [],
   "source": []
  },
  {
   "cell_type": "code",
   "execution_count": null,
   "id": "0312a008",
   "metadata": {},
   "outputs": [],
   "source": []
  },
  {
   "cell_type": "code",
   "execution_count": null,
   "id": "8456d0c2",
   "metadata": {},
   "outputs": [],
   "source": []
  },
  {
   "cell_type": "code",
   "execution_count": null,
   "id": "6bc57198",
   "metadata": {},
   "outputs": [],
   "source": []
  },
  {
   "cell_type": "code",
   "execution_count": null,
   "id": "83ad2c00",
   "metadata": {},
   "outputs": [],
   "source": []
  }
 ],
 "metadata": {
  "kernelspec": {
   "display_name": "Python 3 (ipykernel)",
   "language": "python",
   "name": "python3"
  },
  "language_info": {
   "codemirror_mode": {
    "name": "ipython",
    "version": 3
   },
   "file_extension": ".py",
   "mimetype": "text/x-python",
   "name": "python",
   "nbconvert_exporter": "python",
   "pygments_lexer": "ipython3",
   "version": "3.9.12"
  }
 },
 "nbformat": 4,
 "nbformat_minor": 5
}
